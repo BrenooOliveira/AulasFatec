{
  "nbformat": 4,
  "nbformat_minor": 0,
  "metadata": {
    "colab": {
      "provenance": [],
      "authorship_tag": "ABX9TyOziNCId/D0nes+B/d4e+xN",
      "include_colab_link": true
    },
    "kernelspec": {
      "name": "python3",
      "display_name": "Python 3"
    },
    "language_info": {
      "name": "python"
    }
  },
  "cells": [
    {
      "cell_type": "markdown",
      "metadata": {
        "id": "view-in-github",
        "colab_type": "text"
      },
      "source": [
        "<a href=\"https://colab.research.google.com/github/BrenooOliveira/AulasFatec/blob/main/numerosAleatorios.ipynb\" target=\"_parent\"><img src=\"https://colab.research.google.com/assets/colab-badge.svg\" alt=\"Open In Colab\"/></a>"
      ]
    },
    {
      "cell_type": "code",
      "execution_count": null,
      "metadata": {
        "colab": {
          "base_uri": "https://localhost:8080/"
        },
        "id": "I5lJdgXIVNzF",
        "outputId": "35f1f680-b9ac-45c9-fe8e-c4a333b522ab"
      },
      "outputs": [
        {
          "output_type": "stream",
          "name": "stdout",
          "text": [
            "Token 1: uei21CrH2whG10Ya\n",
            "Token 2: sJpCcKp2vHl9GAaD\n",
            "Token 3: mjDfuIFf3XiH1jIa\n",
            "Token 4: ZUygEnVg5aNm8bW6\n",
            "Token 5: jR20f6HmOZrRAbdW\n"
          ]
        }
      ],
      "source": [
        "import secrets\n",
        "import string\n",
        "\n",
        "def gerar_token(tamanho=16):\n",
        "    # Define os caracteres permitidos no token: letras, dígitos e símbolos seguros\n",
        "    alfabeto = string.ascii_letters + string.digits\n",
        "    # Gera um token seguro com 'tamanho' caracteres\n",
        "    token = ''.join(secrets.choice(alfabeto) for _ in range(tamanho))\n",
        "    return token\n",
        "\n",
        "# Gerar 5 tokens de exemplo\n",
        "for i in range(5):\n",
        "    print(f\"Token {i+1}: {gerar_token()}\")\n",
        "\n"
      ]
    },
    {
      "cell_type": "code",
      "source": [],
      "metadata": {
        "id": "vDetLRYvVP0H"
      },
      "execution_count": null,
      "outputs": []
    }
  ]
}